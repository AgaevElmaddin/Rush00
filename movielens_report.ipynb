{
 "cells": [
  {
   "cell_type": "code",
   "execution_count": 3,
   "metadata": {},
   "outputs": [],
   "source": [
    "# Import our classes and their initialization\n",
    "from movielens_analysis import Movies\n",
    "from movielens_analysis import Ratings\n",
    "from movielens_analysis import Tags\n",
    "from movielens_analysis import Links\n",
    "movies = Movies('./ml-latest-small/movies.csv')\n",
    "ratings = Ratings('./ml-latest-small/ratings.csv', './ml-latest-small/movies.csv')\n",
    "tags = Tags('./ml-latest-small/tags.csv')\n",
    "links = Links('./ml-latest-small/links.csv')"
   ]
  },
  {
   "cell_type": "code",
   "execution_count": 7,
   "metadata": {},
   "outputs": [
    {
     "data": {
      "text/plain": [
       "{'movieId': '1',\n",
       " 'title': 'Toy Story (1995)',\n",
       " 'genres': 'Adventure|Animation|Children|Comedy|Fantasy'}"
      ]
     },
     "execution_count": 7,
     "metadata": {},
     "output_type": "execute_result"
    }
   ],
   "source": [
    "# let's watch our dates: let's start with movies, precisely with method get_first_film_info, which returns\n",
    "# the first row after the header: this is a dictionary, where keys are headers and the values are first row.\n",
    "%timeit\n",
    "movies.get_first_film_info()"
   ]
  },
  {
   "cell_type": "code",
   "execution_count": 8,
   "metadata": {},
   "outputs": [
    {
     "data": {
      "text/plain": [
       "{2002: 311,\n",
       " 2006: 295,\n",
       " 2001: 294,\n",
       " 2007: 284,\n",
       " 2000: 283,\n",
       " 2009: 282,\n",
       " 2003: 279,\n",
       " 2004: 279,\n",
       " 2014: 278,\n",
       " 1996: 276,\n",
       " 2015: 274,\n",
       " 2005: 273,\n",
       " 2008: 269,\n",
       " 1999: 263,\n",
       " 1997: 260,\n",
       " 1995: 259,\n",
       " 1998: 258,\n",
       " 2011: 254,\n",
       " 2010: 247,\n",
       " 2013: 239,\n",
       " 1994: 237,\n",
       " 2012: 233,\n",
       " 2016: 218,\n",
       " 1993: 198,\n",
       " 1992: 167,\n",
       " 1988: 165,\n",
       " 1987: 153,\n",
       " 1990: 147,\n",
       " 1991: 147,\n",
       " 2017: 147,\n",
       " 1989: 142,\n",
       " 1986: 139,\n",
       " 1985: 126,\n",
       " 1984: 101,\n",
       " 1981: 92,\n",
       " 1980: 89,\n",
       " 1982: 87,\n",
       " 1983: 83,\n",
       " 1979: 69,\n",
       " 1977: 63,\n",
       " 1973: 59,\n",
       " 1978: 59,\n",
       " 1965: 47,\n",
       " 1971: 47,\n",
       " 1974: 45,\n",
       " 1976: 44,\n",
       " 1964: 43,\n",
       " 1967: 42,\n",
       " 1968: 42,\n",
       " 1975: 42,\n",
       " 1966: 42,\n",
       " 2018: 41,\n",
       " 1962: 40,\n",
       " 1972: 39,\n",
       " 1963: 39,\n",
       " 1959: 37,\n",
       " 1960: 37,\n",
       " 1955: 36,\n",
       " 1969: 35,\n",
       " 1961: 34,\n",
       " 1970: 33,\n",
       " 1957: 33,\n",
       " 1958: 31,\n",
       " 1953: 30,\n",
       " 1956: 30,\n",
       " 1940: 25,\n",
       " 1949: 25,\n",
       " 1954: 23,\n",
       " 1942: 23,\n",
       " 1939: 23,\n",
       " 1946: 23,\n",
       " 1951: 22,\n",
       " 1950: 21,\n",
       " 1947: 20,\n",
       " 1948: 20,\n",
       " 1941: 18,\n",
       " 1936: 18,\n",
       " 1945: 17,\n",
       " 1937: 16,\n",
       " 1952: 16,\n",
       " 1944: 16,\n",
       " 1938: 15,\n",
       " 1931: 14,\n",
       " 1935: 13,\n",
       " 1933: 12,\n",
       " 1934: 11,\n",
       " 1943: 10,\n",
       " 1932: 9,\n",
       " 1927: 7,\n",
       " 1930: 5,\n",
       " 1926: 5,\n",
       " 1924: 5,\n",
       " 1929: 4,\n",
       " 1928: 4,\n",
       " 1925: 4,\n",
       " 1923: 4,\n",
       " 1916: 4,\n",
       " 1920: 2,\n",
       " 1922: 1,\n",
       " 1919: 1,\n",
       " 1921: 1,\n",
       " 1915: 1,\n",
       " 1917: 1,\n",
       " 1902: 1,\n",
       " 1903: 1,\n",
       " 1908: 1}"
      ]
     },
     "execution_count": 8,
     "metadata": {},
     "output_type": "execute_result"
    }
   ],
   "source": [
    "# How can we know how many films were made per year? The dist_by_release method help us out.\n",
    "# You can see that 2002 was the year of cinematography.\n",
    "%timeit\n",
    "movies.dist_by_release()"
   ]
  },
  {
   "cell_type": "code",
   "execution_count": 11,
   "metadata": {},
   "outputs": [
    {
     "data": {
      "text/plain": [
       "{'Drama': 4361,\n",
       " 'Comedy': 3756,\n",
       " 'Thriller': 1894,\n",
       " 'Action': 1828,\n",
       " 'Romance': 1596,\n",
       " 'Adventure': 1263,\n",
       " 'Crime': 1199,\n",
       " 'Sci-Fi': 980,\n",
       " 'Horror': 978,\n",
       " 'Fantasy': 779,\n",
       " 'Children': 664,\n",
       " 'Animation': 611,\n",
       " 'Mystery': 573,\n",
       " 'Documentary': 440,\n",
       " 'War': 382,\n",
       " 'Musical': 334,\n",
       " 'Western': 167,\n",
       " 'IMAX': 158,\n",
       " 'Film-Noir': 87}"
      ]
     },
     "execution_count": 11,
     "metadata": {},
     "output_type": "execute_result"
    }
   ],
   "source": [
    "# Which genres are the most popular? Instead of guessing let's check it out with\n",
    "# the following method: dist_by_genres\n",
    "# After running this method we will see that Drama is the most powerful weapon\n",
    "# in the world of cinematography. Second medal takes comedy and the bronze - thriller.\n",
    "# Film-Noir is less interesting (but they were popular in 1940-1950)\n",
    "%timeit\n",
    "movies.dist_by_genres()"
   ]
  },
  {
   "cell_type": "code",
   "execution_count": 12,
   "metadata": {},
   "outputs": [
    {
     "data": {
      "text/plain": [
       "{'Rubber (2010)': 10,\n",
       " 'Patlabor: The Movie (Kidô keisatsu patorebâ: The Movie) (1989)': 8,\n",
       " 'Mulan (1998)': 7,\n",
       " 'Who Framed Roger Rabbit? (1988)': 7,\n",
       " 'Osmosis Jones (2001)': 7,\n",
       " 'Interstate 60 (2002)': 7,\n",
       " 'Robots (2005)': 7,\n",
       " 'Pulse (2006)': 7,\n",
       " 'Aqua Teen Hunger Force Colon Movie Film for Theaters (2007)': 7,\n",
       " 'Enchanted (2007)': 7}"
      ]
     },
     "execution_count": 12,
     "metadata": {},
     "output_type": "execute_result"
    }
   ],
   "source": [
    "# What kind of films do you like? Mix or specific? The next method of class Movie show us the most genres films.\n",
    "# 10 types of genres in Rubber, can you believe it? Fascinating! Can you beat it!\n",
    "%timeit\n",
    "movies.most_genres(10)\n"
   ]
  },
  {
   "cell_type": "code",
   "execution_count": 13,
   "metadata": {},
   "outputs": [
    {
     "data": {
      "text/plain": [
       "{1998: 507,\n",
       " 2014: 1439,\n",
       " 2013: 1664,\n",
       " 2011: 1690,\n",
       " 1997: 1916,\n",
       " 2010: 2300,\n",
       " 1999: 2439,\n",
       " 2004: 3279,\n",
       " 2002: 3478,\n",
       " 2001: 3922,\n",
       " 2003: 4014,\n",
       " 2006: 4059,\n",
       " 2009: 4158,\n",
       " 2008: 4351,\n",
       " 2012: 4657,\n",
       " 2005: 5813,\n",
       " 1996: 6040,\n",
       " 2018: 6418,\n",
       " 2015: 6616,\n",
       " 2016: 6702,\n",
       " 2007: 7114,\n",
       " 2017: 8199,\n",
       " 2000: 10061}"
      ]
     },
     "execution_count": 13,
     "metadata": {},
     "output_type": "execute_result"
    }
   ],
   "source": [
    "# Ladies and gentlemen, our attention now in class Ratings.\n",
    "# I invite you to watch dist_by_year method, which enlighten us with following information:\n",
    "# how many grades were per year. Most scores were in 2000: 10061, and in 1998 there were\n",
    "# 20 times fewer scores. Do you know why? Me neither. \n",
    "%timeit\n",
    "ratings.get_movies().dist_by_year()"
   ]
  },
  {
   "cell_type": "code",
   "execution_count": 15,
   "metadata": {},
   "outputs": [
    {
     "data": {
      "text/plain": [
       "{0.5: 1370,\n",
       " 1.5: 1791,\n",
       " 1.0: 2811,\n",
       " 2.5: 5550,\n",
       " 2.0: 7551,\n",
       " 4.5: 8551,\n",
       " 3.5: 13136,\n",
       " 5.0: 13211,\n",
       " 3.0: 20047,\n",
       " 4.0: 26818}"
      ]
     },
     "execution_count": 15,
     "metadata": {},
     "output_type": "execute_result"
    }
   ],
   "source": [
    "# Have you ever estimate the film by 0 mark? No. You are great person. Let's watch what how users estimate the films.\n",
    "# I call dist_by_rating for it. As you can see lots of people give the films good marks.\n",
    "%timeit\n",
    "ratings.get_movies().dist_by_rating()"
   ]
  },
  {
   "cell_type": "code",
   "execution_count": 10,
   "metadata": {},
   "outputs": [
    {
     "data": {
      "text/plain": [
       "{'Forrest Gump (1994)': 329,\n",
       " 'Shawshank Redemption, The (1994)': 317,\n",
       " 'Pulp Fiction (1994)': 307,\n",
       " 'Silence of the Lambs, The (1991)': 279,\n",
       " 'Matrix, The (1999)': 278,\n",
       " 'Star Wars: Episode IV - A New Hope (1977)': 251,\n",
       " 'Jurassic Park (1993)': 238,\n",
       " 'Braveheart (1995)': 237,\n",
       " 'Terminator 2: Judgment Day (1991)': 224,\n",
       " \"Schindler's List (1993)\": 220,\n",
       " 'Fight Club (1999)': 218,\n",
       " 'Toy Story (1995)': 215,\n",
       " 'Star Wars: Episode V - The Empire Strikes Back (1980)': 211,\n",
       " 'Usual Suspects, The (1995)': 204,\n",
       " 'American Beauty (1999)': 204}"
      ]
     },
     "execution_count": 10,
     "metadata": {},
     "output_type": "execute_result"
    }
   ],
   "source": [
    "# Please, name your favourite movie. Do you think it is the most popular one. Let's check it by method\n",
    "# top_by_num_of_ratings.\n",
    "%timeit\n",
    "ratings.get_movies().top_by_num_of_ratings(15)"
   ]
  },
  {
   "cell_type": "code",
   "execution_count": 24,
   "metadata": {},
   "outputs": [
    {
     "data": {
      "text/plain": [
       "{'The Jinx: The Life and Deaths of Robert Durst (2015)': 5.0,\n",
       " 'Galaxy of Terror (Quest) (1981)': 5.0,\n",
       " 'Alien Contamination (1980)': 5.0,\n",
       " \"I'm the One That I Want (2000)\": 5.0,\n",
       " 'Lesson Faust (1994)': 5.0,\n",
       " 'Assignment, The (1997)': 5.0,\n",
       " 'Mephisto (1981)': 5.0,\n",
       " 'Black Mirror': 5.0,\n",
       " 'Dylan Moran: Monster (2004)': 5.0,\n",
       " 'Bill Hicks: Revelations (1993)': 5.0,\n",
       " 'My Sassy Girl (Yeopgijeogin geunyeo) (2001)': 5.0,\n",
       " 'Strictly Sexual (2008)': 5.0,\n",
       " 'Story of Women (Affaire de femmes, Une) (1988)': 5.0,\n",
       " 'Passenger, The (Professione: reporter) (1975)': 5.0,\n",
       " 'Marriage of Maria Braun, The (Ehe der Maria Braun, Die) (1979)': 5.0}"
      ]
     },
     "execution_count": 24,
     "metadata": {},
     "output_type": "execute_result"
    }
   ],
   "source": [
    "# Let's look at the films with the highest average rating. We know how important is it\n",
    "# when we decide to watch that film or not. You are always welcome!\n",
    "%timeit\n",
    "ratings.get_movies().top_by_ratings(15)"
   ]
  },
  {
   "cell_type": "code",
   "execution_count": 22,
   "metadata": {},
   "outputs": [
    {
     "data": {
      "text/plain": [
       "{'The Jinx: The Life and Deaths of Robert Durst (2015)': 5.0,\n",
       " 'Galaxy of Terror (Quest) (1981)': 5.0,\n",
       " 'Alien Contamination (1980)': 5.0,\n",
       " 'Troll 2 (1990)': 5.0,\n",
       " \"I'm the One That I Want (2000)\": 5.0,\n",
       " 'Chorus Line, A (1985)': 5.0,\n",
       " \"Guess Who's Coming to Dinner (1967)\": 5.0,\n",
       " 'Children of the Corn IV: The Gathering (1996)': 5.0,\n",
       " 'Band of Brothers (2001)': 5.0,\n",
       " 'Lesson Faust (1994)': 5.0,\n",
       " 'Assignment, The (1997)': 5.0,\n",
       " 'Mephisto (1981)': 5.0,\n",
       " 'Trial, The (Procès, Le) (1962)': 5.0,\n",
       " 'Black Mirror: White Christmas (2014)': 5.0,\n",
       " 'Black Mirror': 5.0}"
      ]
     },
     "execution_count": 22,
     "metadata": {},
     "output_type": "execute_result"
    }
   ],
   "source": [
    "# The same work with the median\n",
    "%timeit\n",
    "ratings.get_movies().top_by_ratings(15, metric = 'median')"
   ]
  },
  {
   "cell_type": "code",
   "execution_count": 26,
   "metadata": {},
   "outputs": [
    {
     "data": {
      "text/plain": [
       "{\"Ivan's Childhood (a.k.a. My Name is Ivan) (Ivanovo detstvo) (1962)\": 5.06,\n",
       " 'Fanny and Alexander (Fanny och Alexander) (1982)': 5.06,\n",
       " 'Troll 2 (1990)': 4.5,\n",
       " 'Lassie (1994)': 4.0,\n",
       " 'Zed & Two Noughts, A (1985)': 4.0,\n",
       " 'Kwaidan (Kaidan) (1964)': 4.0,\n",
       " 'Emma (2009)': 4.0,\n",
       " 'Play Time (a.k.a. Playtime) (1967)': 3.72,\n",
       " 'Room, The (2003)': 3.56,\n",
       " 'Peeping Tom (1960)': 3.5,\n",
       " 'Opera (1987)': 3.5,\n",
       " 'Immortals (2011)': 3.39,\n",
       " 'Skin I Live In, The (La piel que habito) (2011)': 3.38,\n",
       " 'Host, The (2013)': 3.38,\n",
       " 'Phantasm II (1988)': 3.17}"
      ]
     },
     "execution_count": 26,
     "metadata": {},
     "output_type": "execute_result"
    }
   ],
   "source": [
    "# Let's look the films with the highest score variance\n",
    "%timeit\n",
    "ratings.get_movies().top_controversial(15)"
   ]
  },
  {
   "cell_type": "code",
   "execution_count": 2,
   "metadata": {},
   "outputs": [
    {
     "data": {
      "text/plain": [
       "{'in': 145,\n",
       " 'netflix': 134,\n",
       " 'queue': 131,\n",
       " 'comedy': 64,\n",
       " 'dark': 47,\n",
       " 'atmospheric': 41,\n",
       " 'and': 33,\n",
       " 'ending': 30,\n",
       " 'funny': 28,\n",
       " 'space': 28,\n",
       " 'sci-fi': 27,\n",
       " 'visually': 27,\n",
       " 'bad': 27,\n",
       " 'crime': 26,\n",
       " 'superhero': 25}"
      ]
     },
     "execution_count": 2,
     "metadata": {},
     "output_type": "execute_result"
    }
   ],
   "source": [
    "# Class Tags have a desire to introduce itself. Let's see the most popular tags.\n",
    "# 'In' is our winner. Well, It's easy to use this word because of its shortness\n",
    "%timeit\n",
    "tags.most_popular(15)"
   ]
  },
  {
   "cell_type": "code",
   "execution_count": 3,
   "metadata": {},
   "outputs": [
    {
     "data": {
      "text/plain": [
       "{'something for everyone in this one... saw it without and plan on seeing it with kids!': 16,\n",
       " 'the catholic church is the most corrupt organization in history': 10,\n",
       " 'villain nonexistent or not needed for good story': 8,\n",
       " '06 oscar nominated best movie - animation': 7,\n",
       " 'it was melodramatic and kind of dumb': 7,\n",
       " 'oscar (best music - original score)': 6,\n",
       " 'stop using useless characters for filler': 6,\n",
       " 'oscar (best effects - visual effects)': 6,\n",
       " 'everything you want is here': 5,\n",
       " 'based on a true story': 5,\n",
       " 'based on a tv show': 5,\n",
       " 'start of a beautiful friendship': 5,\n",
       " 'rich guy - poor girl': 5,\n",
       " 'academy award (best supporting actress)': 5,\n",
       " 'a dingo ate my baby': 5}"
      ]
     },
     "execution_count": 3,
     "metadata": {},
     "output_type": "execute_result"
    }
   ],
   "source": [
    "# Now Let's watch the longest tags: by number of words\n",
    "%timeit\n",
    "tags.most_words(15)"
   ]
  },
  {
   "cell_type": "code",
   "execution_count": 5,
   "metadata": {},
   "outputs": [
    {
     "data": {
      "text/plain": [
       "['killer-as-protagonist',\n",
       " 'assassin-in-training',\n",
       " 'android(s)/cyborg(s)',\n",
       " 'setting:space/space',\n",
       " 'anti-intellectual',\n",
       " 'thought-provoking',\n",
       " 'post-apocalyptic',\n",
       " 'action/animation',\n",
       " 'characterisation',\n",
       " 'cinematography)',\n",
       " 'widows/widowers',\n",
       " 'mediacentralism',\n",
       " 'overcomplicated',\n",
       " 'black-and-white',\n",
       " 'confrontational']"
      ]
     },
     "execution_count": 5,
     "metadata": {},
     "output_type": "execute_result"
    }
   ],
   "source": [
    "# And now let's see the longest tag-word\n",
    "%timeit\n",
    "tags.longest(15)"
   ]
  },
  {
   "cell_type": "code",
   "execution_count": 17,
   "metadata": {},
   "outputs": [
    {
     "data": {
      "text/plain": [
       "['medieval',\n",
       " 'inspirational',\n",
       " 'gangster',\n",
       " 'history',\n",
       " 'confusing',\n",
       " 'painter',\n",
       " 'animation',\n",
       " 'holocaust',\n",
       " 'classic',\n",
       " 'cyberpunk',\n",
       " 'time-travel',\n",
       " 'stylish',\n",
       " 'hilarious',\n",
       " 'atmospheric',\n",
       " 'historical',\n",
       " 'stylized',\n",
       " 'original',\n",
       " 'fantasy',\n",
       " 'violent',\n",
       " 'superhero',\n",
       " 'britpop',\n",
       " 'adventure',\n",
       " 'sustainability',\n",
       " 'tolkien',\n",
       " 'wedding',\n",
       " 'revenge']"
      ]
     },
     "execution_count": 17,
     "metadata": {},
     "output_type": "execute_result"
    }
   ],
   "source": [
    "# Let's see the intersection of 1) the longest tags: by number of words and 2) the longest tag-word\n",
    "%timeit\n",
    "tags.most_words_and_longest(750)"
   ]
  },
  {
   "cell_type": "code",
   "execution_count": 19,
   "metadata": {},
   "outputs": [
    {
     "data": {
      "text/plain": [
       "['costume drama', 'courtroom drama', 'drama']"
      ]
     },
     "execution_count": 19,
     "metadata": {},
     "output_type": "execute_result"
    }
   ],
   "source": [
    "# Let's watch tags with the most popular genre: 'Drama'. We know the from Movie class\n",
    "%timeit\n",
    "tags.tags_with('Drama')"
   ]
  },
  {
   "cell_type": "code",
   "execution_count": 15,
   "metadata": {},
   "outputs": [
    {
     "ename": "TypeError",
     "evalue": "list indices must be integers or slices, not str",
     "output_type": "error",
     "traceback": [
      "\u001b[0;31m---------------------------------------------------------------------------\u001b[0m",
      "\u001b[0;31mTypeError\u001b[0m                                 Traceback (most recent call last)",
      "\u001b[0;32m/var/folders/zz/zyxvpxvq6csfxvn_n0001n9h000d_c/T/ipykernel_95392/1327938228.py\u001b[0m in \u001b[0;36m<module>\u001b[0;34m\u001b[0m\n\u001b[1;32m      1\u001b[0m \u001b[0;31m# Let's talk about Links a little bit. Let's get dates from IMBD\u001b[0m\u001b[0;34m\u001b[0m\u001b[0;34m\u001b[0m\u001b[0;34m\u001b[0m\u001b[0m\n\u001b[1;32m      2\u001b[0m \u001b[0mget_ipython\u001b[0m\u001b[0;34m(\u001b[0m\u001b[0;34m)\u001b[0m\u001b[0;34m.\u001b[0m\u001b[0mrun_line_magic\u001b[0m\u001b[0;34m(\u001b[0m\u001b[0;34m'timeit'\u001b[0m\u001b[0;34m,\u001b[0m \u001b[0;34m''\u001b[0m\u001b[0;34m)\u001b[0m\u001b[0;34m\u001b[0m\u001b[0;34m\u001b[0m\u001b[0m\n\u001b[0;32m----> 3\u001b[0;31m \u001b[0mlinks\u001b[0m\u001b[0;34m.\u001b[0m\u001b[0mget_imdb\u001b[0m\u001b[0;34m(\u001b[0m\u001b[0;34m[\u001b[0m\u001b[0;34m'1'\u001b[0m\u001b[0;34m,\u001b[0m \u001b[0;34m'2'\u001b[0m\u001b[0;34m,\u001b[0m \u001b[0;34m'3'\u001b[0m\u001b[0;34m,\u001b[0m \u001b[0;34m'4'\u001b[0m\u001b[0;34m,\u001b[0m \u001b[0;34m'5'\u001b[0m\u001b[0;34m]\u001b[0m\u001b[0;34m,\u001b[0m \u001b[0;34m[\u001b[0m\u001b[0;34m'director'\u001b[0m\u001b[0;34m,\u001b[0m \u001b[0;34m'name'\u001b[0m\u001b[0;34m,\u001b[0m \u001b[0;34m'genre'\u001b[0m\u001b[0;34m,\u001b[0m \u001b[0;34m'actor'\u001b[0m\u001b[0;34m,\u001b[0m \u001b[0;34m'runtime'\u001b[0m\u001b[0;34m]\u001b[0m\u001b[0;34m)\u001b[0m\u001b[0;34m\u001b[0m\u001b[0;34m\u001b[0m\u001b[0m\n\u001b[0m\u001b[1;32m      4\u001b[0m \u001b[0mget_ipython\u001b[0m\u001b[0;34m(\u001b[0m\u001b[0;34m)\u001b[0m\u001b[0;34m.\u001b[0m\u001b[0mrun_line_magic\u001b[0m\u001b[0;34m(\u001b[0m\u001b[0;34m'timeit'\u001b[0m\u001b[0;34m,\u001b[0m \u001b[0;34m''\u001b[0m\u001b[0;34m)\u001b[0m\u001b[0;34m\u001b[0m\u001b[0;34m\u001b[0m\u001b[0m\n\u001b[1;32m      5\u001b[0m \u001b[0mlinks\u001b[0m\u001b[0;34m.\u001b[0m\u001b[0mtop_directors\u001b[0m\u001b[0;34m(\u001b[0m\u001b[0;36m3\u001b[0m\u001b[0;34m)\u001b[0m\u001b[0;34m\u001b[0m\u001b[0;34m\u001b[0m\u001b[0m\n",
      "\u001b[0;32m~/piscineDS/rush00/movielens_analysis.py\u001b[0m in \u001b[0;36mget_imdb\u001b[0;34m(self, list_of_movies, list_of_fields)\u001b[0m\n\u001b[1;32m    459\u001b[0m                                 \u001b[0mfield_to_lower\u001b[0m \u001b[0;34m=\u001b[0m \u001b[0mfield\u001b[0m\u001b[0;34m\u001b[0m\u001b[0;34m\u001b[0m\u001b[0m\n\u001b[1;32m    460\u001b[0m                                 \u001b[0;32mtry\u001b[0m\u001b[0;34m:\u001b[0m\u001b[0;34m\u001b[0m\u001b[0;34m\u001b[0m\u001b[0m\n\u001b[0;32m--> 461\u001b[0;31m                                         \u001b[0mself\u001b[0m\u001b[0;34m.\u001b[0m\u001b[0mglobal_dict\u001b[0m\u001b[0;34m[\u001b[0m\u001b[0mmovie\u001b[0m\u001b[0;34m]\u001b[0m \u001b[0;34m=\u001b[0m \u001b[0;34m{\u001b[0m\u001b[0;34m\"director\"\u001b[0m\u001b[0;34m:\u001b[0m \u001b[0mdict_info\u001b[0m\u001b[0;34m[\u001b[0m\u001b[0;34m\"director\"\u001b[0m\u001b[0;34m]\u001b[0m\u001b[0;34m[\u001b[0m\u001b[0;34m\"name\"\u001b[0m\u001b[0;34m]\u001b[0m\u001b[0;34m,\u001b[0m \u001b[0;34m\"title\"\u001b[0m\u001b[0;34m:\u001b[0m \u001b[0mdict_info\u001b[0m\u001b[0;34m[\u001b[0m\u001b[0;34m\"name\"\u001b[0m\u001b[0;34m]\u001b[0m\u001b[0;34m}\u001b[0m\u001b[0;34m\u001b[0m\u001b[0;34m\u001b[0m\u001b[0m\n\u001b[0m\u001b[1;32m    462\u001b[0m                                 \u001b[0;32mexcept\u001b[0m \u001b[0mKeyError\u001b[0m\u001b[0;34m:\u001b[0m\u001b[0;34m\u001b[0m\u001b[0;34m\u001b[0m\u001b[0m\n\u001b[1;32m    463\u001b[0m                                         \u001b[0msys\u001b[0m\u001b[0;34m.\u001b[0m\u001b[0mexit\u001b[0m\u001b[0;34m(\u001b[0m\u001b[0;34m)\u001b[0m\u001b[0;34m\u001b[0m\u001b[0;34m\u001b[0m\u001b[0m\n",
      "\u001b[0;31mTypeError\u001b[0m: list indices must be integers or slices, not str"
     ]
    }
   ],
   "source": [
    "# Let's talk about Links a little bit. Let's get dates from IMBD\n",
    "%timeit\n",
    "links.get_imdb(['1', '2', '3', '4', '5'], ['director', 'name', 'genre', 'actor', 'runtime'])\n",
    "%timeit\n",
    "links.top_directors(3)"
   ]
  }
 ],
 "metadata": {
  "interpreter": {
   "hash": "70b38d7a306a849643e446cd70466270a13445e5987dfa1344ef2b127438fa4d"
  },
  "kernelspec": {
   "display_name": "Python 3.7.8 64-bit",
   "language": "python",
   "name": "python3"
  },
  "language_info": {
   "codemirror_mode": {
    "name": "ipython",
    "version": 3
   },
   "file_extension": ".py",
   "mimetype": "text/x-python",
   "name": "python",
   "nbconvert_exporter": "python",
   "pygments_lexer": "ipython3",
   "version": "3.7.8"
  },
  "orig_nbformat": 4
 },
 "nbformat": 4,
 "nbformat_minor": 2
}
